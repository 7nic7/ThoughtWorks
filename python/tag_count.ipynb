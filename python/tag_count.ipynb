{
 "cells": [
  {
   "cell_type": "code",
   "execution_count": 3,
   "metadata": {},
   "outputs": [],
   "source": [
    "def statistic(tags):\n",
    "    stat = {}\n",
    "    for i in tags:\n",
    "        tag = i.split('-')\n",
    "        if len(tag) > 1:\n",
    "            stat[i] = stat.get(i, 0) + int(tag[-1])\n",
    "        else:\n",
    "            stat[i] = stat.get(i, 0) + 1\n",
    "    return stat"
   ]
  },
  {
   "cell_type": "code",
   "execution_count": 8,
   "metadata": {},
   "outputs": [],
   "source": [
    "iters = statistic(tags=[\n",
    "    'ITEM000001',\n",
    "    'ITEM000001',\n",
    "    'ITEM000001',\n",
    "    'ITEM000001',\n",
    "    'ITEM000001',\n",
    "    'ITEM000003-2',\n",
    "    'ITEM000005',\n",
    "    'ITEM000005',\n",
    "    'ITEM000005'\n",
    "    ])"
   ]
  },
  {
   "cell_type": "code",
   "execution_count": 11,
   "metadata": {},
   "outputs": [],
   "source": [
    "def filterNumber(num, iters):\n",
    "    return list(filter(lambda x: x[1]>num, iters.items()))"
   ]
  },
  {
   "cell_type": "code",
   "execution_count": 12,
   "metadata": {},
   "outputs": [
    {
     "data": {
      "text/plain": [
       "[('ITEM000001', 5)]"
      ]
     },
     "execution_count": 12,
     "metadata": {},
     "output_type": "execute_result"
    }
   ],
   "source": [
    "filterNumber(3, iters)"
   ]
  },
  {
   "cell_type": "code",
   "execution_count": null,
   "metadata": {},
   "outputs": [],
   "source": []
  },
  {
   "cell_type": "code",
   "execution_count": null,
   "metadata": {},
   "outputs": [],
   "source": []
  }
 ],
 "metadata": {
  "kernelspec": {
   "display_name": "Python 3",
   "language": "python",
   "name": "python3"
  },
  "language_info": {
   "codemirror_mode": {
    "name": "ipython",
    "version": 3
   },
   "file_extension": ".py",
   "mimetype": "text/x-python",
   "name": "python",
   "nbconvert_exporter": "python",
   "pygments_lexer": "ipython3",
   "version": "3.7.6"
  }
 },
 "nbformat": 4,
 "nbformat_minor": 4
}
