{
 "cells": [
  {
   "cell_type": "markdown",
   "metadata": {},
   "source": [
    "# 需求1\n",
    "构造一个停车场，停车场可以停车和取车，停车成功后得到停车票。 用户取车的时候也需要提供停车票，停车票有效，才可以成功取到车。"
   ]
  },
  {
   "cell_type": "code",
   "execution_count": 1,
   "metadata": {},
   "outputs": [],
   "source": [
    "class ParkingLot(object):\n",
    "    def __init__(self, n, name):\n",
    "        self.name = name\n",
    "        self.cars = {}\n",
    "        self.n = n\n",
    "    \n",
    "    def is_empty(self):\n",
    "        if len(self.cars) < self.n:\n",
    "            return True\n",
    "        else:\n",
    "            return False\n",
    "    \n",
    "    def ticket(self):\n",
    "        if not self.cars:\n",
    "            return 0\n",
    "        else:\n",
    "            return max(self.cars.keys()) + 1\n",
    "    \n",
    "    def park(self, car):\n",
    "        if self.is_empty():\n",
    "            t = self.ticket()\n",
    "            self.cars[t] = car\n",
    "            print('%s 已停入%s，获取的车票号是 %s' % (car, self.name, t))\n",
    "            return t\n",
    "        else:\n",
    "            print('%s 已满！' % self.name)\n",
    "            return None\n",
    "        \n",
    "    def pickup(self, ticket):\n",
    "        try:\n",
    "            print('%s 车票号 %s-%s 正确，取出 %s' % (self.name, ticket, self.cars[ticket], self.cars[ticket]))\n",
    "            self.cars.pop(ticket)\n",
    "        except:\n",
    "            print('请提供正确的车票！')"
   ]
  },
  {
   "cell_type": "code",
   "execution_count": 2,
   "metadata": {},
   "outputs": [
    {
     "name": "stdout",
     "output_type": "stream",
     "text": [
      "benchi 已停入1号停车场，获取的车票号是 0\n",
      "1号停车场 已满！\n",
      "1号停车场 车票号 0-benchi 正确，取出 benchi\n"
     ]
    }
   ],
   "source": [
    "# test\n",
    "lot = ParkingLot(1, '1号停车场')\n",
    "t_benchi = lot.park('benchi')\n",
    "t_baoma = lot.park('baoma')\n",
    "\n",
    "lot.pickup(t_benchi)"
   ]
  },
  {
   "cell_type": "markdown",
   "metadata": {},
   "source": [
    "# 需求2\n",
    "构造一个停车小弟（ParkingBoy），他能够将车顺序停放到多个停车场，并可以取出"
   ]
  },
  {
   "cell_type": "code",
   "execution_count": 3,
   "metadata": {},
   "outputs": [
    {
     "ename": "NameError",
     "evalue": "name 'a' is not defined",
     "output_type": "error",
     "traceback": [
      "\u001b[1;31m---------------------------------------------------------------------------\u001b[0m",
      "\u001b[1;31mNameError\u001b[0m                                 Traceback (most recent call last)",
      "\u001b[1;32m<ipython-input-3-3f786850e387>\u001b[0m in \u001b[0;36m<module>\u001b[1;34m\u001b[0m\n\u001b[1;32m----> 1\u001b[1;33m \u001b[0ma\u001b[0m\u001b[1;33m\u001b[0m\u001b[1;33m\u001b[0m\u001b[0m\n\u001b[0m",
      "\u001b[1;31mNameError\u001b[0m: name 'a' is not defined"
     ]
    }
   ],
   "source": [
    "a"
   ]
  },
  {
   "cell_type": "code",
   "execution_count": 4,
   "metadata": {},
   "outputs": [],
   "source": [
    "class ParkingBoy(object):\n",
    "    \n",
    "    def check(self, lots):\n",
    "        lot_cnt = {}  # 统计各停车场的剩余车位,没有车位的不输出\n",
    "        for lot in lots:\n",
    "            if lot.n - len(lot.cars) > 0:\n",
    "                lot_cnt[lot] = lot.n - len(lot.cars)\n",
    "        return lot_cnt\n",
    "    \n",
    "    def line_park(self, cars, lots):\n",
    "        ticket_car = {}\n",
    "        for index, car in enumerate(cars):\n",
    "            lot_cnt = self.check(lots)\n",
    "            if not lot_cnt:  # 所有的停车场都没有车位了\n",
    "                print('没有车位了，%s没有地方停' % '、'.join(cars[index:]))\n",
    "                return ticket_car, cars[index:]\n",
    "            \n",
    "            lot = list(lot_cnt.keys())[0]\n",
    "            t = lot.park(car)\n",
    "            ticket_car[(lot, t)] = car\n",
    "        return ticket_car, None\n",
    "                \n",
    "    def line_pickup(self, infos):\n",
    "        for info, car in infos.items():\n",
    "            lot, ticket = info\n",
    "            lot.pickup(ticket)"
   ]
  },
  {
   "cell_type": "code",
   "execution_count": 5,
   "metadata": {
    "scrolled": false
   },
   "outputs": [
    {
     "name": "stdout",
     "output_type": "stream",
     "text": [
      "benchi 已停入1号停车场，获取的车票号是 0\n",
      "baoma 已停入2号停车场，获取的车票号是 0\n",
      "falali 已停入2号停车场，获取的车票号是 1\n",
      "mashaladi 已停入3号停车场，获取的车票号是 0\n",
      "tesila 已停入3号停车场，获取的车票号是 1\n",
      "dazhong 已停入3号停车场，获取的车票号是 2\n",
      "没有车位了，aodi没有地方停\n",
      "\n",
      "1号停车场 车票号 0-benchi 正确，取出 benchi\n",
      "2号停车场 车票号 0-baoma 正确，取出 baoma\n",
      "2号停车场 车票号 1-falali 正确，取出 falali\n",
      "3号停车场 车票号 0-mashaladi 正确，取出 mashaladi\n",
      "3号停车场 车票号 1-tesila 正确，取出 tesila\n",
      "3号停车场 车票号 2-dazhong 正确，取出 dazhong\n"
     ]
    }
   ],
   "source": [
    "lot1 = ParkingLot(n=1, name='1号停车场')\n",
    "lot2 = ParkingLot(n=2, name='2号停车场')\n",
    "lot3 = ParkingLot(n=3, name='3号停车场')\n",
    "\n",
    "xiaoming = ParkingBoy()\n",
    "infos, _ = xiaoming.line_park(['benchi', 'baoma', 'falali', 'mashaladi', 'tesila', 'dazhong', 'aodi'], [lot1, lot2, lot3])\n",
    "print()\n",
    "xiaoming.line_pickup(infos)"
   ]
  },
  {
   "cell_type": "markdown",
   "metadata": {},
   "source": [
    "# 需求3\n",
    "构造一个聪明的停车小弟（Smart Parking Boy），他能够将车停在空车位最多的那个停车场"
   ]
  },
  {
   "cell_type": "code",
   "execution_count": 6,
   "metadata": {
    "scrolled": true
   },
   "outputs": [],
   "source": [
    "class SmartParkingBoy(ParkingBoy):\n",
    "    \n",
    "    def line_park(self, cars, lots):\n",
    "        ticket_car = {}\n",
    "        for index, car in enumerate(cars):\n",
    "            lot_cnt = self.check(lots)\n",
    "            \n",
    "            if not lot_cnt:\n",
    "                print('没有车位了，%s没有地方停' % '、'.join(cars[index:]))\n",
    "                return ticket_car, cars[index:]\n",
    "            \n",
    "            max_lot = sorted(lot_cnt.items(), key=lambda x: -x[1])[0][0]\n",
    "            t = max_lot.park(car)\n",
    "            ticket_car[(max_lot, t)] = car\n",
    "        return ticket_car, None"
   ]
  },
  {
   "cell_type": "code",
   "execution_count": 7,
   "metadata": {},
   "outputs": [
    {
     "name": "stdout",
     "output_type": "stream",
     "text": [
      "benchi 已停入3号停车场，获取的车票号是 0\n",
      "baoma 已停入2号停车场，获取的车票号是 0\n",
      "falali 已停入3号停车场，获取的车票号是 1\n",
      "mashaladi 已停入1号停车场，获取的车票号是 0\n",
      "tesila 已停入2号停车场，获取的车票号是 1\n",
      "dazhong 已停入3号停车场，获取的车票号是 2\n",
      "没有车位了，aodi没有地方停\n",
      "\n",
      "3号停车场 车票号 0-benchi 正确，取出 benchi\n",
      "2号停车场 车票号 0-baoma 正确，取出 baoma\n",
      "3号停车场 车票号 1-falali 正确，取出 falali\n",
      "1号停车场 车票号 0-mashaladi 正确，取出 mashaladi\n",
      "2号停车场 车票号 1-tesila 正确，取出 tesila\n",
      "3号停车场 车票号 2-dazhong 正确，取出 dazhong\n"
     ]
    }
   ],
   "source": [
    "lot1 = ParkingLot(n=1, name='1号停车场')\n",
    "lot2 = ParkingLot(n=2, name='2号停车场')\n",
    "lot3 = ParkingLot(n=3, name='3号停车场')\n",
    "\n",
    "xiaohong = SmartParkingBoy()\n",
    "infos, _ = xiaohong.line_park(['benchi', 'baoma', 'falali', 'mashaladi', 'tesila', 'dazhong', 'aodi'], [lot1, lot2, lot3])\n",
    "print()\n",
    "xiaohong.line_pickup(infos)"
   ]
  },
  {
   "cell_type": "markdown",
   "metadata": {},
   "source": [
    "# 需求4\n",
    "构造一个超级停车小弟（Super Parking Boy），他能够将车停在空置率最高的那个停车场"
   ]
  },
  {
   "cell_type": "code",
   "execution_count": 8,
   "metadata": {},
   "outputs": [],
   "source": [
    "class SuperParkingBoy(ParkingBoy):\n",
    "    \n",
    "    def line_park(self, cars, lots):\n",
    "        ticket_car = {}\n",
    "        for index, car in enumerate(cars):\n",
    "            lot_cnt = self.check(lots)\n",
    "            if not lot_cnt:\n",
    "                print('没有车位了，%s没有地方停' % '、'.join(cars[index:]))\n",
    "                return ticket_car, cars[index:]\n",
    "            \n",
    "            lot_rate = {lot: cnt/lot.n for lot, cnt in lot_cnt.items()}\n",
    "            max_lot = sorted(lot_rate.items(), key=lambda x: -x[1])[0][0]\n",
    "            t = max_lot.park(car)\n",
    "            ticket_car[(max_lot, t)] = car\n",
    "        return ticket_car, None        "
   ]
  },
  {
   "cell_type": "code",
   "execution_count": 9,
   "metadata": {},
   "outputs": [
    {
     "name": "stdout",
     "output_type": "stream",
     "text": [
      "benchi 已停入1号停车场，获取的车票号是 0\n",
      "baoma 已停入2号停车场，获取的车票号是 0\n",
      "falali 已停入3号停车场，获取的车票号是 0\n",
      "mashaladi 已停入1号停车场，获取的车票号是 1\n",
      "tesila 已停入2号停车场，获取的车票号是 1\n",
      "dazhong 已停入3号停车场，获取的车票号是 1\n",
      "aodi 已停入1号停车场，获取的车票号是 2\n",
      "\n",
      "1号停车场 车票号 0-benchi 正确，取出 benchi\n",
      "2号停车场 车票号 0-baoma 正确，取出 baoma\n",
      "3号停车场 车票号 0-falali 正确，取出 falali\n",
      "1号停车场 车票号 1-mashaladi 正确，取出 mashaladi\n",
      "2号停车场 车票号 1-tesila 正确，取出 tesila\n",
      "3号停车场 车票号 1-dazhong 正确，取出 dazhong\n",
      "1号停车场 车票号 2-aodi 正确，取出 aodi\n"
     ]
    }
   ],
   "source": [
    "lot1 = ParkingLot(n=3, name='1号停车场')\n",
    "lot2 = ParkingLot(n=3, name='2号停车场')\n",
    "lot3 = ParkingLot(n=3, name='3号停车场')\n",
    "\n",
    "xiaohong = SmartParkingBoy()\n",
    "infos, _ = xiaohong.line_park(['benchi', 'baoma', 'falali', 'mashaladi', 'tesila', 'dazhong', 'aodi'], [lot1, lot2, lot3])\n",
    "print()\n",
    "xiaohong.line_pickup(infos)"
   ]
  },
  {
   "cell_type": "markdown",
   "metadata": {},
   "source": [
    "# 需求5\n",
    "构造停车场的经理（Parking Manager），他要管理多个停车仔，让他们停车，同时也可以自己停车"
   ]
  },
  {
   "cell_type": "code",
   "execution_count": 10,
   "metadata": {},
   "outputs": [
    {
     "ename": "NameError",
     "evalue": "name 'a' is not defined",
     "output_type": "error",
     "traceback": [
      "\u001b[1;31m---------------------------------------------------------------------------\u001b[0m",
      "\u001b[1;31mNameError\u001b[0m                                 Traceback (most recent call last)",
      "\u001b[1;32m<ipython-input-10-3f786850e387>\u001b[0m in \u001b[0;36m<module>\u001b[1;34m\u001b[0m\n\u001b[1;32m----> 1\u001b[1;33m \u001b[0ma\u001b[0m\u001b[1;33m\u001b[0m\u001b[1;33m\u001b[0m\u001b[0m\n\u001b[0m",
      "\u001b[1;31mNameError\u001b[0m: name 'a' is not defined"
     ]
    }
   ],
   "source": [
    "a"
   ]
  },
  {
   "cell_type": "code",
   "execution_count": 11,
   "metadata": {},
   "outputs": [],
   "source": [
    "import random\n",
    "\n",
    "class ParkingManager(SuperParkingBoy):\n",
    "    \n",
    "    def park_byother(self, boys, cars, lots):\n",
    "        ticket_car = {}\n",
    "        nonpark = None\n",
    "        for car in cars:\n",
    "            ticket_car_, nonpark_ = boys[random.randint(0, len(boys)-1)].line_park([car], lots)\n",
    "            ticket_car.update(ticket_car_)\n",
    "            if not nonpark_:\n",
    "                if not nonpark:\n",
    "                    nonpark = nonpark_\n",
    "                else:\n",
    "                    nonpark.extend(nonpark_)\n",
    "        return ticket_car, nonpark\n",
    "    \n",
    "    def park_byself(self, cars, lots):\n",
    "        return self.line_park(cars, lots)"
   ]
  },
  {
   "cell_type": "code",
   "execution_count": 12,
   "metadata": {},
   "outputs": [
    {
     "name": "stdout",
     "output_type": "stream",
     "text": [
      "benchi 已停入1号停车场，获取的车票号是 0\n",
      "baoma 已停入2号停车场，获取的车票号是 0\n",
      "falali 已停入3号停车场，获取的车票号是 0\n",
      "mashaladi 已停入3号停车场，获取的车票号是 1\n",
      "tesila 已停入2号停车场，获取的车票号是 1\n",
      "dazhong 已停入3号停车场，获取的车票号是 2\n",
      "没有车位了，aodi没有地方停\n",
      "\n",
      "1号停车场 车票号 0-benchi 正确，取出 benchi\n",
      "2号停车场 车票号 0-baoma 正确，取出 baoma\n",
      "3号停车场 车票号 0-falali 正确，取出 falali\n",
      "3号停车场 车票号 1-mashaladi 正确，取出 mashaladi\n",
      "2号停车场 车票号 1-tesila 正确，取出 tesila\n",
      "3号停车场 车票号 2-dazhong 正确，取出 dazhong\n",
      "\n",
      "benchi 已停入1号停车场，获取的车票号是 0\n",
      "baoma 已停入2号停车场，获取的车票号是 0\n",
      "falali 已停入2号停车场，获取的车票号是 1\n",
      "mashaladi 已停入3号停车场，获取的车票号是 0\n",
      "tesila 已停入3号停车场，获取的车票号是 1\n",
      "dazhong 已停入3号停车场，获取的车票号是 2\n",
      "没有车位了，aodi没有地方停\n"
     ]
    }
   ],
   "source": [
    "lot1 = ParkingLot(n=1, name='1号停车场')\n",
    "lot2 = ParkingLot(n=2, name='2号停车场')\n",
    "lot3 = ParkingLot(n=3, name='3号停车场')\n",
    "boy1 = ParkingBoy()\n",
    "boy2 = SmartParkingBoy()\n",
    "boy3 = SuperParkingBoy()\n",
    "manager = ParkingManager()\n",
    "\n",
    "infos, _ = manager.park_byself(['benchi', 'baoma', 'falali', 'mashaladi', 'tesila', 'dazhong', 'aodi'], [lot1, lot2, lot3])\n",
    "print()\n",
    "boy1.line_pickup(infos)\n",
    "print()\n",
    "infos, _ = manager.park_byother([boy1, boy2, boy3], ['benchi', 'baoma', 'falali', 'mashaladi', 'tesila', 'dazhong', 'aodi'], [lot1, lot2, lot3])"
   ]
  }
 ],
 "metadata": {
  "kernelspec": {
   "display_name": "Python 3",
   "language": "python",
   "name": "python3"
  },
  "language_info": {
   "codemirror_mode": {
    "name": "ipython",
    "version": 3
   },
   "file_extension": ".py",
   "mimetype": "text/x-python",
   "name": "python",
   "nbconvert_exporter": "python",
   "pygments_lexer": "ipython3",
   "version": "3.7.6"
  }
 },
 "nbformat": 4,
 "nbformat_minor": 4
}
